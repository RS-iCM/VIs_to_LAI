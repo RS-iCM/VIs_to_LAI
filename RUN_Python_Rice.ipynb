{
 "cells": [
  {
   "cell_type": "code",
   "execution_count": null,
   "id": "dc86ea32",
   "metadata": {},
   "outputs": [
    {
     "data": {
      "image/png": "[encoded data removed]",
      "text/plain": [
       "<Figure size 640x480 with 1 Axes>"
      ]
     },
     "metadata": {},
     "output_type": "display_data"
    }
   ],
   "source": [
    "# Simulate LAIs from VIs for rice\n",
    "#%run codes/sim_VIs_to_LAI_crops.py\n",
    "from codes.sim_VIs_to_LAI_crops import main\n",
    "\n",
    "import os\n",
    "import numpy as np\n",
    "import pandas as pd\n",
    "\n",
    "#*** Regression, plot, & output file options ***#\n",
    "########## 0 = DNN, 1 = ML1 (ET),\n",
    "########## 3 = NDVI-based, 4 = four VIs-based, 5 = log-log,\n",
    "########## 7 = Ensemble2 (ML + VIs + Log-log)\n",
    "reg_opt  = 7\n",
    "plot_opt = 1 # 0 = no plot, 1 = plot a graph of seasonal change in LAI\n",
    "file_opt = 1 # 0 = no output file, 1 = save the simulated output file\n",
    "flag = 5.5 #*** Set the max LAI value ****\n",
    "\n",
    "path = os.path.abspath(os.getcwd())  #*** current working directory ***#\n",
    "para_FN = path+'/data/empirical_reg_parameters_rice.txt'\n",
    "wobs_FN2 = path+'/data/Rice_LAI_n_VIs.csv'  # observed VIs and LAI data in csv format\n",
    "data_FN = path+'/data/Rice_FN_NICS_2021.csv'  # VIs input data for LAI simulation\n",
    "output_FN = path+'/outputs/SLAI_rice.out'  # output file for simulated LAI\n",
    "\n",
    "DNN_FN = path+'/models/rice_NN.h5'\n",
    "pkl_FN = path+'/models/pickle_extra_trees_Rice.pkl'\n",
    "pkl_seq_FN = path+'/models/pickle_extra_trees_Rice_seq.pkl'\n",
    "\n",
    "main(DNN_FN, pkl_FN, pkl_seq_FN, reg_opt, plot_opt, file_opt, flag, para_FN, wobs_FN2, data_FN, output_FN)"
   ]
  },
  {
   "cell_type": "code",
   "execution_count": 20,
   "id": "31f2ca06-78fc-48d6-b2f1-7c9303ae8c5f",
   "metadata": {},
   "outputs": [],
   "source": [
    "# This script runs the ET simulation for Rice using LAI derived from Vegetation Indices (VIs).\n",
    "#%run codes/ET_sim_Rice_LAI_from_VIs.py\n",
    "#%run codes/ET_sim_Rice_LAI_from_VIs_seq.py"
   ]
  },
  {
   "cell_type": "code",
   "execution_count": 19,
   "id": "ae0c21df",
   "metadata": {},
   "outputs": [],
   "source": [
    "# This script runs the DNN model for Rice using LAI derived from Vegetation Indices (VIs).\n",
    "#%run codes/DNN_sim_Rice_LAI_from_VIs.py"
   ]
  },
  {
   "cell_type": "code",
   "execution_count": 22,
   "id": "c22dc9a4",
   "metadata": {},
   "outputs": [
    {
     "data": {
      "text/plain": [
       "'\\n%run codes/each_crop_model/sim_VIs_to_LAI_rice_v2.py  \\n\\nimport os\\nimport numpy as np\\nimport pandas as pd\\n\\n#*** Regression, plot, & output file options ***#\\n########## 0 = DNN, 1 = ML (ET), 2 = NDVI-based, 3 = four VIs-based,\\n########## 5 = Ensemble, 6 = log-log\\nreg_opt  = 6\\nplot_opt = 1 # 0 = no plot, 1 = plot a graph of seasonal change in LAI\\nfile_opt = 1 # 0 = no output file, 1 = save the simulated output file\\nflag = 4.5   #*** Set the max LAI value ****\\n\\npath = os.path.abspath(os.getcwd())+\\'//\\'  #*** current working directory ***#\\npara_FN = path+\\'data/empirical_reg_parameters_rice.txt\\'\\nwobs_FN2 = path+\\'data/Rice_LAI_n_VIs.csv\\'  # observed VIs and LAI data in csv format\\ndata_FN = path+\\'data/Rice_NN_CNU_2021.csv\\'  # VIs input data for LAI simulation\\noutput_FN = path+\\'outputs/SLAI_rice.out\\'  # output file for simulated LAI\\n\\n# df_whole_VIs_n_LAI = np.genfromtxt(wobs_FN, dtype=\\'float\\')\\ndf_whole_VIs_n_LAI = pd.read_csv(wobs_FN2)[[\"DOY\",\"LAI\",\"MTVI1\", \"NDVI\", \"OSAVI\", \"RDVI\"]].to_numpy()\\ndf_in = pd.read_csv(data_FN)[[\"DOY\",\"MTVI1\", \"NDVI\", \"OSAVI\", \"RDVI\"]].to_numpy()\\n\\nmain(reg_opt, plot_opt, file_opt, flag, para_FN, df_whole_VIs_n_LAI, df_in, output_FN)\\n'"
      ]
     },
     "execution_count": 22,
     "metadata": {},
     "output_type": "execute_result"
    }
   ],
   "source": [
    "# Simulate LAIs from VIs for rice\n",
    "\"\"\"\n",
    "%run codes/each_crop_model/sim_VIs_to_LAI_rice_v2.py  \n",
    "\n",
    "import os\n",
    "import numpy as np\n",
    "import pandas as pd\n",
    "\n",
    "#*** Regression, plot, & output file options ***#\n",
    "########## 0 = DNN, 1 = ML (ET), 2 = NDVI-based, 3 = four VIs-based,\n",
    "########## 5 = Ensemble, 6 = log-log\n",
    "reg_opt  = 6\n",
    "plot_opt = 1 # 0 = no plot, 1 = plot a graph of seasonal change in LAI\n",
    "file_opt = 1 # 0 = no output file, 1 = save the simulated output file\n",
    "flag = 4.5   #*** Set the max LAI value ****\n",
    "\n",
    "path = os.path.abspath(os.getcwd())+'//'  #*** current working directory ***#\n",
    "para_FN = path+'data/empirical_reg_parameters_rice.txt'\n",
    "wobs_FN2 = path+'data/Rice_LAI_n_VIs.csv'  # observed VIs and LAI data in csv format\n",
    "data_FN = path+'data/Rice_NN_CNU_2021.csv'  # VIs input data for LAI simulation\n",
    "output_FN = path+'outputs/SLAI_rice.out'  # output file for simulated LAI\n",
    "\n",
    "# df_whole_VIs_n_LAI = np.genfromtxt(wobs_FN, dtype='float')\n",
    "df_whole_VIs_n_LAI = pd.read_csv(wobs_FN2)[[\"DOY\",\"LAI\",\"MTVI1\", \"NDVI\", \"OSAVI\", \"RDVI\"]].to_numpy()\n",
    "df_in = pd.read_csv(data_FN)[[\"DOY\",\"MTVI1\", \"NDVI\", \"OSAVI\", \"RDVI\"]].to_numpy()\n",
    "\n",
    "main(reg_opt, plot_opt, file_opt, flag, para_FN, df_whole_VIs_n_LAI, df_in, output_FN)\n",
    "\"\"\""
   ]
  },
  {
   "cell_type": "code",
   "execution_count": null,
   "id": "1236c430",
   "metadata": {},
   "outputs": [],
   "source": []
  }
 ],
 "metadata": {
  "kernelspec": {
   "display_name": "py3.10_rscm_win",
   "language": "python",
   "name": "python3"
  },
  "language_info": {
   "codemirror_mode": {
    "name": "ipython",
    "version": 3
   },
   "file_extension": ".py",
   "mimetype": "text/x-python",
   "name": "python",
   "nbconvert_exporter": "python",
   "pygments_lexer": "ipython3",
   "version": "3.10.16"
  }
 },
 "nbformat": 4,
 "nbformat_minor": 5
}
